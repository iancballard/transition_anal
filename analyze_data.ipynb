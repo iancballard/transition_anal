{
 "cells": [
  {
   "cell_type": "code",
   "execution_count": 1,
   "metadata": {
    "collapsed": true
   },
   "outputs": [],
   "source": [
    "import os\n",
    "import numpy as np\n",
    "import glob\n",
    "import csv\n",
    "import matplotlib\n",
    "import matplotlib.pyplot as plt\n",
    "import pandas as pd\n",
    "from scipy import stats, optimize\n",
    "from pandas import DataFrame, Series\n",
    "import seaborn as sns\n",
    "import random as rd\n",
    "from statsmodels.formula.api import ols\n",
    "from statsmodels.stats.anova import anova_lm\n",
    "import scipy.stats\n",
    "import patsy\n",
    "from scipy.optimize import minimize\n",
    "from scipy.optimize import basinhopping\n",
    "from sklearn import linear_model\n",
    "import multiprocessing\n",
    "import random\n",
    "from scipy.stats import norm\n",
    "from scipy.stats import beta\n",
    "%matplotlib inline"
   ]
  },
  {
   "cell_type": "code",
   "execution_count": 57,
   "metadata": {
    "collapsed": false
   },
   "outputs": [
    {
     "name": "stdout",
     "output_type": "stream",
     "text": [
      "        rt  key_press   trial_type  trial_index  trial_index_global  \\\n",
      "1295    -1         -1  single-stim            0                1295   \n",
      "1296    -1         -1  single-stim            0                1296   \n",
      "1297  2041         13         text            0                1297   \n",
      "\n",
      "      time_elapsed              exp_id condition  trial_num       trial_id  \\\n",
      "1295       1042510  two-stage-decision         1        199  test_FB_stage   \n",
      "1296       1043512                 NaN       NaN        NaN            NaN   \n",
      "1297       1045556                 NaN       NaN        NaN            NaN   \n",
      "\n",
      "                                               FB_probs  \n",
      "1295  0.4550775204592807,0.3932520630940464,0.360271...  \n",
      "1296                                                NaN  \n",
      "1297                                                NaN  \n"
     ]
    }
   ],
   "source": [
    "#mess around with this to get a sense of the dataframe\n",
    "home_dir = '/Users/ianballard/Dropbox/two_step_analysis/'\n",
    "data_files = glob.glob(home_dir + '*csv') #all files ending in csv\n",
    "\n",
    "for f in data_files:\n",
    "    data = pd.read_csv(f)\n",
    "data = data.drop(['view_history','stimulus','internal_chunk_id'],1) #drop useless columns\n",
    "\n",
    "print data.tail(3) #last three rows (see head for first)"
   ]
  },
  {
   "cell_type": "code",
   "execution_count": 54,
   "metadata": {
    "collapsed": false
   },
   "outputs": [],
   "source": [
    "ntrials = 200\n",
    "key_map = {37:0,39:1} #keystrokes. Remember that the location of the stimuli changes trial to trial\n",
    "state_map = {'3,2':1,'5,4':2,'2,3':1,'4,5':2} #\n",
    "practice = ['practice_first_stage', 'practice_second_stage', 'practice_FB_stage'] #labels for practice trials\n",
    "\n",
    "for f in data_files:\n",
    "\n",
    "    sub_id = f.split('/')[-1].split('.csv')[0] #parse subid from filename\n",
    "    \n",
    "    #dictionary to fill\n",
    "    data = {'rt1':[],'rt2':[],'action1':[],'action2':[],'choice1':[],\n",
    "            'choice2':[],'state':[],'rew':[],'ttype':[],'stay':[],'sub':[sub_id] * ntrials} \n",
    "    \n",
    "    #preprocess data\n",
    "    df = pd.read_csv(f) \n",
    "    df = df.drop(['view_history','stimulus','internal_chunk_id'],1) #drop useless columns\n",
    "\n",
    "    #drop practice trials\n",
    "    for t in practice: \n",
    "        trial_df = trial_df[trial_df['trial_id'] != t]\n",
    "            \n",
    "    #get choices, actions, rewards, RTs, etc from each trial\n",
    "    for i in range(ntrials):\n",
    "\n",
    "        trial_df = df[df['trial_num'] == i] #get data corresponding to that trial\n",
    "        \n",
    "        state = state_map[str(trial_df['condition'].values[1])]\n",
    "        data['rt1'].append(trial_df['rt'].values[0])\n",
    "        data['rt2'].append(trial_df['rt'].values[1])\n",
    "        data['rew'].append(trial_df['condition'].values[2]) \n",
    "        data['state'].append(state)\n",
    "\n",
    "        action1 = key_map[trial_df['key_press'].values[0]]\n",
    "        action2 = key_map[trial_df['key_press'].values[1]]\n",
    "        choice1 = int(trial_df['condition'].values[0].split(',')[action1])\n",
    "        choice2 = int(trial_df['condition'].values[1].split(',')[action2])\n",
    "        \n",
    "        data['action1'].append(action1)\n",
    "        data['action2'].append(action2)\n",
    "        data['choice1'].append(choice1)\n",
    "        data['choice2'].append(choice2)\n",
    "        \n",
    "        #determine if it was a switch or stay trial\n",
    "        if len(data['choice1'])>0 and (choice1 == data['choice1'][-1]):\n",
    "                data['stay'].append('stay')\n",
    "        else:\n",
    "            data['stay'].append('switch')\n",
    "        \n",
    "        #determine if it was a common or rare transition\n",
    "        if (choice1 == 0 and state == 1) or (choice1 == 1 and state == 2):\n",
    "            data['ttype'].append('common')\n",
    "        else:\n",
    "            data['ttype'].append('rare')\n",
    "        \n",
    "data = pd.DataFrame(data) #make dataFrame"
   ]
  },
  {
   "cell_type": "code",
   "execution_count": 55,
   "metadata": {
    "collapsed": false
   },
   "outputs": [
    {
     "name": "stdout",
     "output_type": "stream",
     "text": [
      "   action1  action2  choice1  choice2 rew   rt1   rt2  state  stay  \\\n",
      "0        0        0        1        5   0   843  1628      2  stay   \n",
      "1        1        0        1        2   0  1102   793      1  stay   \n",
      "2        1        0        1        3   0  1456   479      1  stay   \n",
      "3        1        1        1        3   0  1436   689      1  stay   \n",
      "4        0        0        1        5   1   567   847      2  stay   \n",
      "5        0        0        1        5   0   982   352      2  stay   \n",
      "6        0        0        0        2   1  1110   351      1  stay   \n",
      "7        0        0        1        4   1   424   399      2  stay   \n",
      "8        0        0        1        3   1   446   310      1  stay   \n",
      "9        0        0        0        2   1   462   337      1  stay   \n",
      "\n",
      "           sub   ttype  \n",
      "0  a.moretti18  common  \n",
      "1  a.moretti18    rare  \n",
      "2  a.moretti18    rare  \n",
      "3  a.moretti18    rare  \n",
      "4  a.moretti18  common  \n",
      "5  a.moretti18  common  \n",
      "6  a.moretti18  common  \n",
      "7  a.moretti18  common  \n",
      "8  a.moretti18    rare  \n",
      "9  a.moretti18  common  \n"
     ]
    }
   ],
   "source": [
    "print data.head(10)"
   ]
  },
  {
   "cell_type": "code",
   "execution_count": 5,
   "metadata": {
    "collapsed": true
   },
   "outputs": [],
   "source": [
    "# #Ignore this for now. This is for paying the real mechanical turk workers\n",
    "\n",
    "# ##takes the mturk results file and makes a dictionary mapping\n",
    "# ##the worker id to the assignment id\n",
    "# def get_assignment_id(assignment_file):\n",
    "# \trowNum=0\n",
    "# \tworker_id_2_assignment_id = {}\n",
    "# \twith(open(assignment_file,'rU')) as f:\n",
    "# \t\treader = csv.reader(f)\n",
    "# \t\t#worker id is 15 and 14\n",
    "# \t\tfor row in reader:\n",
    "# \t \t\tif rowNum > 0:\n",
    "# \t\t\t\tworker_id_2_assignment_id[row[15]] = row[14]\n",
    "# \t\t\trowNum += 1\n",
    "# \treturn worker_id_2_assignment_id"
   ]
  },
  {
   "cell_type": "code",
   "execution_count": 34,
   "metadata": {
    "collapsed": false
   },
   "outputs": [],
   "source": [
    "# ##payment  \n",
    "# assignment_file = os.path.join(home_dir,'results/Batch_2088213_batch_results.csv')\n",
    "# payment_file = os.path.join(home_dir,'results/payment1.txt')\n",
    "# worker_id_2_assignment_id = get_assignment_id(assignment_file)\n",
    "# bonus = 4.00\n",
    "\n",
    "# data_f = glob.glob(home_dir + '*csv')\n",
    "# for f in data_f:\n",
    "#     worker = f.split('/')[-1][:-4]\n",
    "#     if worker in worker_id_2_assignment_id.keys():\n",
    "#         out_str = [worker_id_2_assignment_id[worker] ,worker , str(bonus)]\n",
    "#         pay = open(payment_file,'a')\n",
    "#         pay.write('\\t'.join(out_str))\n",
    "#         pay.write('\\n')\n"
   ]
  }
 ],
 "metadata": {
  "kernelspec": {
   "display_name": "Python 2",
   "language": "python",
   "name": "python2"
  },
  "language_info": {
   "codemirror_mode": {
    "name": "ipython",
    "version": 2
   },
   "file_extension": ".py",
   "mimetype": "text/x-python",
   "name": "python",
   "nbconvert_exporter": "python",
   "pygments_lexer": "ipython2",
   "version": "2.7.3"
  }
 },
 "nbformat": 4,
 "nbformat_minor": 0
}
