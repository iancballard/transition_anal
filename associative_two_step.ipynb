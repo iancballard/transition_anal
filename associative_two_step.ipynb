{
 "cells": [
  {
   "cell_type": "markdown",
   "metadata": {},
   "source": [
    "#Fit two step task with an associative algorithm"
   ]
  },
  {
   "cell_type": "code",
   "execution_count": 1,
   "metadata": {
    "collapsed": true
   },
   "outputs": [],
   "source": [
    "import os\n",
    "import numpy as np\n",
    "import glob\n",
    "import csv\n",
    "import matplotlib\n",
    "import matplotlib.pyplot as plt\n",
    "import pandas as pd\n",
    "from scipy import stats, optimize\n",
    "from pandas import DataFrame, Series\n",
    "import seaborn as sns\n",
    "import random as rd\n",
    "from statsmodels.formula.api import ols\n",
    "from statsmodels.stats.anova import anova_lm\n",
    "import scipy.stats\n",
    "import patsy\n",
    "from scipy.optimize import minimize\n",
    "from scipy.optimize import basinhopping\n",
    "from sklearn import linear_model\n",
    "import multiprocessing\n",
    "import random\n",
    "from scipy.stats import norm\n",
    "from scipy.stats import beta\n",
    "##Code for analysis of fMRI experiment"
   ]
  },
  {
   "cell_type": "code",
   "execution_count": 515,
   "metadata": {
    "collapsed": false
   },
   "outputs": [],
   "source": [
    "ntrials = 200\n",
    "alpha = .3\n",
    "m=3.0\n",
    "p=.4"
   ]
  },
  {
   "cell_type": "code",
   "execution_count": 516,
   "metadata": {
    "collapsed": false
   },
   "outputs": [],
   "source": [
    "def initialize():\n",
    "    #initialize data structures\n",
    "    objects = ['a1','a2','b1','b2','c1','c2']\n",
    "    states = ['a','b','c','terminal']\n",
    "    actions = ['1','2']\n",
    "\n",
    "    #Initialize transition, rewards, values matrics\n",
    "    transitions = {}\n",
    "    rewards = {}\n",
    "    V = {}\n",
    "    associations = {}\n",
    "    for s in states:\n",
    "        transitions[s] = {}\n",
    "        rewards[s] = {}\n",
    "        for a in actions:\n",
    "            transitions[s][a] = {}\n",
    "            rewards[s][a] = 0\n",
    "    for o in objects:\n",
    "        V[o] = 0\n",
    "        associations[o] = {}\n",
    "\n",
    "    for o1 in associations:\n",
    "        for o2 in objects:\n",
    "            if o1 != o2: #avoid self associations\n",
    "                associations[o1][o2] = 0\n",
    "\n",
    "    #fill in transition probs\n",
    "    for s1 in states:\n",
    "        for a in actions:\n",
    "            for s2 in states:\n",
    "                transitions[s1][a][s2] = 0         \n",
    "    transitions['b']['1']['terminal'] = 1\n",
    "    transitions['b']['2']['terminal'] = 1\n",
    "    transitions['c']['1']['terminal'] = 1\n",
    "    transitions['c']['2']['terminal'] = 1\n",
    "    transitions['a']['1']['b'] = .7\n",
    "    transitions['a']['1']['c'] = .3\n",
    "    transitions['a']['2']['b'] = .3\n",
    "    transitions['a']['2']['c'] = .7\n",
    "\n",
    "    #set up reward probs\n",
    "    rewards['b']['1'] = .7\n",
    "    rewards['b']['2'] = .3\n",
    "    rewards['c']['1'] = .3\n",
    "    rewards['c']['2'] = .7\n",
    "#     rewards['b']['1'] = .8\n",
    "#     rewards['b']['2'] = .6\n",
    "#     rewards['c']['1'] = .2\n",
    "#     rewards['c']['2'] = .5\n",
    "    \n",
    "    return transitions, rewards, V, associations, objects, states, actions"
   ]
  },
  {
   "cell_type": "code",
   "execution_count": 517,
   "metadata": {
    "collapsed": false
   },
   "outputs": [],
   "source": [
    "#gradually shift reward probabilitites to encourage learning\n",
    "def update_rewards(rewards):\n",
    "    for s in ['b','c']: #only update end states\n",
    "        for a in actions:\n",
    "            shift = 0#np.random.normal(0,.025)\n",
    "            if (rewards[s][a] + shift > .75) or (rewards[s][a] + shift < .25): #reflecting boundaries\n",
    "                rewards[s][a] = rewards[s][a] - shift\n",
    "            else:\n",
    "                rewards[s][a] = rewards[s][a] + shift\n",
    "    return rewards"
   ]
  },
  {
   "cell_type": "code",
   "execution_count": 518,
   "metadata": {
    "collapsed": false
   },
   "outputs": [],
   "source": [
    "def get_reward(state,action,rewards):\n",
    "    return scipy.stats.bernoulli.rvs(rewards[state][action])"
   ]
  },
  {
   "cell_type": "code",
   "execution_count": 519,
   "metadata": {
    "collapsed": false
   },
   "outputs": [],
   "source": [
    "def next_state(state,action):\n",
    "    probs = map(lambda x: transitions[state][action][x], states)\n",
    "    return np.random.choice(a=states,p=probs)"
   ]
  },
  {
   "cell_type": "code",
   "execution_count": 520,
   "metadata": {
    "collapsed": false
   },
   "outputs": [],
   "source": [
    "def get_action(state,V,last_a_action):\n",
    "    Vs = map(lambda a: V[state+a],actions) #get values of each object in state\n",
    "    if state == 'a': #model perseveration\n",
    "        if last_a_action == '1':\n",
    "            Vs[0] = Vs[0] + p\n",
    "        else:\n",
    "            Vs[1] = Vs[1] + p\n",
    "    normalizing_constant = np.sum(map(lambda v: np.exp(m*v),Vs)) #get total value of state\n",
    "    probs = map(lambda v: np.exp(v*m), Vs)\n",
    "    probs = probs / normalizing_constant\n",
    "    return np.random.choice(a=actions,p=probs)\n",
    "# get_action('a',V,'1')"
   ]
  },
  {
   "cell_type": "code",
   "execution_count": 521,
   "metadata": {
    "collapsed": true
   },
   "outputs": [],
   "source": [
    "def update_associations(state,new_state,action,associations, nsteps):\n",
    "    if new_state != 'terminal':\n",
    "        nsteps +=1\n",
    "        for a in actions:\n",
    "            associations[state + action][new_state + a] = associations[state + action][new_state + a] + 1\n",
    "            associations[new_state + a][state + action] = associations[state + action][new_state + a] #make symmetric\n",
    "    return associations, nsteps"
   ]
  },
  {
   "cell_type": "code",
   "execution_count": 522,
   "metadata": {
    "collapsed": false
   },
   "outputs": [],
   "source": [
    "def update_value(rew,state,new_state,action,V,associations,nsteps):\n",
    "    if new_state != 'terminal':\n",
    "        delta = rew + max(V[new_state + actions[0]],V[new_state + actions[1]]) - V[state+action]\n",
    "    else:\n",
    "        delta = rew - V[state+action]\n",
    "        \n",
    "    V[state+action] = V[state+action] + alpha*delta\n",
    "    \n",
    "    #percolate value one step back, weighted by the strength of association\n",
    "    for o in associations[state+action]:\n",
    "        delta = rew - V[o]\n",
    "        V[o] = V[o] + associations[state+action][o] * 4*alpha* delta / nsteps\n",
    "    return V\n",
    "# transitions, rewards, V, associations, objects, states, actions = initialize()\n",
    "# nsteps = 0\n",
    "# print V\n",
    "# V = update_value(0,'a','b','1',V,associations,nsteps)\n",
    "# print V"
   ]
  },
  {
   "cell_type": "code",
   "execution_count": 523,
   "metadata": {
    "collapsed": false
   },
   "outputs": [],
   "source": [
    "#run trial\n",
    "def take_step(state,rewards,associations,V,nsteps,output,last_a_action):\n",
    "    if state == 'terminal': #end state\n",
    "        rewards = update_rewards(rewards)\n",
    "        return rewards, associations, V, nsteps \n",
    "\n",
    "    #do standard MDP stuff\n",
    "    action = get_action(state,V,last_a_action)\n",
    "    new_state = next_state(state,action)\n",
    "    rew = get_reward(state,action,rewards)\n",
    "    if state == 'a':\n",
    "        last_a_action = action\n",
    "        \n",
    "    #log what's happening\n",
    "    output['rew'].append(rew)\n",
    "    output['action'].append(action)\n",
    "    output['newstate'].append(new_state)\n",
    "    output['state'].append(state)\n",
    "    \n",
    "    #update values and associations\n",
    "    associations,nsteps = update_associations(state,new_state,action,associations,nsteps) #update associations\n",
    "    value = update_value(rew,state,new_state,action,V,associations,nsteps)\n",
    "    \n",
    "    return take_step(new_state,rewards,associations,V,nsteps,output,last_a_action)"
   ]
  },
  {
   "cell_type": "code",
   "execution_count": 524,
   "metadata": {
    "collapsed": false
   },
   "outputs": [],
   "source": [
    "ntrials = 5000\n",
    "transitions, rewards, V, associations, objects, states, actions = initialize()\n",
    "nsteps = 0.0\n",
    "last_a_action = '1'\n",
    "output = {'state':[],'action':[],'newstate':[],'rew':[]}\n",
    "for i in range(ntrials):\n",
    "    rewards, associations, V, nsteps = take_step('a',rewards,associations,V,nsteps,output,last_a_action)\n",
    "# output = pd.DataFrame(output)"
   ]
  },
  {
   "cell_type": "code",
   "execution_count": 525,
   "metadata": {
    "collapsed": false
   },
   "outputs": [],
   "source": [
    "#analyze common and rare transitions and add to DF\n",
    "output['transition_type'] = []\n",
    "for n,s in enumerate(output['newstate']):\n",
    "    if s  == 'terminal':\n",
    "        output['transition_type'].append('end')\n",
    "    elif (s == 'b' and output['action'][n] == '1') or (s == 'c' and output['action'][n] == '2'):\n",
    "        output['transition_type'].append('common')\n",
    "    elif (s == 'b' and output['action'][n] == '2') or (s == 'c' and output['action'][n] == '1'):\n",
    "        output['transition_type'].append('rare')\n",
    "output = pd.DataFrame(output)"
   ]
  },
  {
   "cell_type": "code",
   "execution_count": 526,
   "metadata": {
    "collapsed": false
   },
   "outputs": [],
   "source": [
    "#calculate stay and switch\n",
    "output['stay'] = np.nan\n",
    "a_indices =  output[output['state'] == 'a'].index\n",
    "a_indices = a_indices.values\n",
    "stay_or_switch = ['np.nan']\n",
    "for n,idx in enumerate(a_indices):\n",
    "    if n>0:\n",
    "        last_action = output.iloc[a_indices[n-1]].action\n",
    "        current_action = output.iloc[a_indices[n]].action\n",
    "        if last_action == current_action:\n",
    "            stay_or_switch.append('stay')\n",
    "        else:\n",
    "            stay_or_switch.append('switch')\n",
    "output.ix[output['state'] == 'a','stay']  = stay_or_switch"
   ]
  },
  {
   "cell_type": "code",
   "execution_count": 527,
   "metadata": {
    "collapsed": false
   },
   "outputs": [
    {
     "name": "stdout",
     "output_type": "stream",
     "text": [
      "        nonrewarded  rewarded\n",
      "common     0.555556  0.726651\n",
      "rare       0.640646  0.636927\n"
     ]
    }
   ],
   "source": [
    "results = {'rewarded':{'common':[],'rare':[]},'nonrewarded':{'common':[],'rare':[]}}\n",
    "for r in ['rewarded','nonrewarded']:\n",
    "    if r == 'rewarded':\n",
    "        rew = 1\n",
    "    else:\n",
    "        rew = 0\n",
    "        \n",
    "    indices = output[(output['newstate']=='terminal') & (output['rew'] == rew)].index[:-1]\n",
    "    transition_type = output.iloc[indices-1]['transition_type'].values\n",
    "    action = output.iloc[indices+1]['stay'].values\n",
    "    \n",
    "    \n",
    "    for c in ['common','rare']:\n",
    "        choices = list(action[transition_type == c])\n",
    "        results[r][c] = choices.count('stay')/float(len(choices))\n",
    "\n",
    "results = pd.DataFrame(results)\n",
    "print results"
   ]
  },
  {
   "cell_type": "code",
   "execution_count": 449,
   "metadata": {
    "collapsed": false
   },
   "outputs": [
    {
     "name": "stdout",
     "output_type": "stream",
     "text": [
      "a1 a2 0.0\n",
      "a1 b1 0.6168\n",
      "a1 b2 0.6168\n",
      "a1 c2 0.2622\n",
      "a1 c1 0.2622\n",
      "a2 a1 0.0\n",
      "a2 b1 0.0358\n",
      "a2 b2 0.0358\n",
      "a2 c2 0.0852\n",
      "a2 c1 0.0852\n",
      "b1 a1 0.6168\n",
      "b1 a2 0.0358\n",
      "b1 b2 0.0\n",
      "b1 c2 0.0\n",
      "b1 c1 0.0\n",
      "b2 a1 0.6168\n",
      "b2 a2 0.0358\n",
      "b2 b1 0.0\n",
      "b2 c2 0.0\n",
      "b2 c1 0.0\n",
      "c2 a1 0.2622\n",
      "c2 a2 0.0852\n",
      "c2 b1 0.0\n",
      "c2 b2 0.0\n",
      "c2 c1 0.0\n",
      "c1 a1 0.2622\n",
      "c1 a2 0.0852\n",
      "c1 b1 0.0\n",
      "c1 b2 0.0\n",
      "c1 c2 0.0\n",
      "{'a1': 0.6806570538546526, 'a2': 0.7285485558948297, 'b1': 0.5480558591056993, 'b2': 0.2978784262829568, 'c2': 0.5933646005688671, 'c1': 0.1767515953230546}\n",
      "     action  newstate  rew state transition_type    stay\n",
      "0         1         c    0     a            rare  np.nan\n",
      "1         1  terminal    1     c             end     NaN\n",
      "2         2         c    0     a          common  switch\n",
      "3         2  terminal    1     c             end     NaN\n",
      "4         2         b    0     a            rare    stay\n",
      "5         2  terminal    0     b             end     NaN\n",
      "6         1         c    0     a            rare  switch\n",
      "7         1  terminal    0     c             end     NaN\n",
      "8         1         b    0     a          common    stay\n",
      "9         2  terminal    0     b             end     NaN\n",
      "10        2         c    0     a          common  switch\n",
      "11        2  terminal    0     c             end     NaN\n",
      "12        1         c    0     a            rare  switch\n",
      "13        1  terminal    0     c             end     NaN\n",
      "14        1         b    0     a          common    stay\n",
      "15        2  terminal    1     b             end     NaN\n",
      "16        1         b    0     a          common    stay\n",
      "17        2  terminal    1     b             end     NaN\n",
      "18        1         b    0     a          common    stay\n",
      "19        2  terminal    1     b             end     NaN\n",
      "20        1         b    0     a          common    stay\n",
      "21        2  terminal    0     b             end     NaN\n",
      "22        1         b    0     a          common    stay\n",
      "23        2  terminal    0     b             end     NaN\n",
      "24        1         b    0     a          common    stay\n",
      "25        1  terminal    0     b             end     NaN\n",
      "26        1         c    0     a            rare    stay\n",
      "27        2  terminal    1     c             end     NaN\n",
      "28        1         c    0     a            rare    stay\n",
      "29        2  terminal    1     c             end     NaN\n",
      "...     ...       ...  ...   ...             ...     ...\n",
      "9970      1         b    0     a          common  switch\n",
      "9971      2  terminal    1     b             end     NaN\n",
      "9972      1         b    0     a          common    stay\n",
      "9973      1  terminal    1     b             end     NaN\n",
      "9974      1         c    0     a            rare    stay\n",
      "9975      1  terminal    0     c             end     NaN\n",
      "9976      1         b    0     a          common    stay\n",
      "9977      1  terminal    1     b             end     NaN\n",
      "9978      1         b    0     a          common    stay\n",
      "9979      1  terminal    0     b             end     NaN\n",
      "9980      1         b    0     a          common    stay\n",
      "9981      1  terminal    0     b             end     NaN\n",
      "9982      1         b    0     a          common    stay\n",
      "9983      1  terminal    0     b             end     NaN\n",
      "9984      2         c    0     a          common  switch\n",
      "9985      1  terminal    0     c             end     NaN\n",
      "9986      1         b    0     a          common  switch\n",
      "9987      1  terminal    1     b             end     NaN\n",
      "9988      1         b    0     a          common    stay\n",
      "9989      2  terminal    0     b             end     NaN\n",
      "9990      1         b    0     a          common    stay\n",
      "9991      1  terminal    1     b             end     NaN\n",
      "9992      1         b    0     a          common    stay\n",
      "9993      1  terminal    0     b             end     NaN\n",
      "9994      1         b    0     a          common    stay\n",
      "9995      2  terminal    0     b             end     NaN\n",
      "9996      1         b    0     a          common    stay\n",
      "9997      2  terminal    0     b             end     NaN\n",
      "9998      1         b    0     a          common    stay\n",
      "9999      1  terminal    0     b             end     NaN\n",
      "\n",
      "[10000 rows x 6 columns]\n"
     ]
    }
   ],
   "source": [
    "for o1 in associations:\n",
    "    for o2 in associations:\n",
    "        if o1 != o2:\n",
    "            print o1,o2,associations[o1][o2]/nsteps\n",
    "print V\n",
    "print output"
   ]
  },
  {
   "cell_type": "code",
   "execution_count": null,
   "metadata": {
    "collapsed": true
   },
   "outputs": [],
   "source": []
  },
  {
   "cell_type": "code",
   "execution_count": null,
   "metadata": {
    "collapsed": true
   },
   "outputs": [],
   "source": []
  }
 ],
 "metadata": {
  "kernelspec": {
   "display_name": "Python 2",
   "language": "python",
   "name": "python2"
  },
  "language_info": {
   "codemirror_mode": {
    "name": "ipython",
    "version": 2
   },
   "file_extension": ".py",
   "mimetype": "text/x-python",
   "name": "python",
   "nbconvert_exporter": "python",
   "pygments_lexer": "ipython2",
   "version": "2.7.3"
  }
 },
 "nbformat": 4,
 "nbformat_minor": 0
}
